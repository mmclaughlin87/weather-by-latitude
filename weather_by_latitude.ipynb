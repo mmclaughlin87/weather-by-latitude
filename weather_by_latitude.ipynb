{
 "cells": [
  {
   "cell_type": "code",
   "execution_count": 1,
   "metadata": {},
   "outputs": [],
   "source": [
    "import pandas as pd\n",
    "import matplotlib.pyplot as plt\n",
    "from citipy import citipy\n",
    "import requests\n",
    "import json\n",
    "import random\n",
    "from config import owm_api_key\n",
    "plt.style.use('seaborn')"
   ]
  },
  {
   "cell_type": "code",
   "execution_count": 2,
   "metadata": {},
   "outputs": [
    {
     "data": {
      "text/html": [
       "<div>\n",
       "<style>\n",
       "    .dataframe thead tr:only-child th {\n",
       "        text-align: right;\n",
       "    }\n",
       "\n",
       "    .dataframe thead th {\n",
       "        text-align: left;\n",
       "    }\n",
       "\n",
       "    .dataframe tbody tr th {\n",
       "        vertical-align: top;\n",
       "    }\n",
       "</style>\n",
       "<table border=\"1\" class=\"dataframe\">\n",
       "  <thead>\n",
       "    <tr style=\"text-align: right;\">\n",
       "      <th></th>\n",
       "      <th>City</th>\n",
       "      <th>Country</th>\n",
       "      <th>Latitude</th>\n",
       "      <th>Longitude</th>\n",
       "    </tr>\n",
       "  </thead>\n",
       "  <tbody>\n",
       "    <tr>\n",
       "      <th>0</th>\n",
       "      <td>mergui</td>\n",
       "      <td>mm</td>\n",
       "      <td>11.630521</td>\n",
       "      <td>98.627505</td>\n",
       "    </tr>\n",
       "    <tr>\n",
       "      <th>1</th>\n",
       "      <td>mataura</td>\n",
       "      <td>pf</td>\n",
       "      <td>-86.528193</td>\n",
       "      <td>-157.238227</td>\n",
       "    </tr>\n",
       "    <tr>\n",
       "      <th>2</th>\n",
       "      <td>norman wells</td>\n",
       "      <td>ca</td>\n",
       "      <td>74.491104</td>\n",
       "      <td>-119.280961</td>\n",
       "    </tr>\n",
       "    <tr>\n",
       "      <th>3</th>\n",
       "      <td>airai</td>\n",
       "      <td>pw</td>\n",
       "      <td>11.571790</td>\n",
       "      <td>137.588948</td>\n",
       "    </tr>\n",
       "    <tr>\n",
       "      <th>4</th>\n",
       "      <td>punta arenas</td>\n",
       "      <td>cl</td>\n",
       "      <td>-65.178682</td>\n",
       "      <td>-85.492823</td>\n",
       "    </tr>\n",
       "  </tbody>\n",
       "</table>\n",
       "</div>"
      ],
      "text/plain": [
       "           City Country   Latitude   Longitude\n",
       "0        mergui      mm  11.630521   98.627505\n",
       "1       mataura      pf -86.528193 -157.238227\n",
       "2  norman wells      ca  74.491104 -119.280961\n",
       "3         airai      pw  11.571790  137.588948\n",
       "4  punta arenas      cl -65.178682  -85.492823"
      ]
     },
     "execution_count": 2,
     "metadata": {},
     "output_type": "execute_result"
    }
   ],
   "source": [
    "# Gather 500 unique cities randomly\n",
    "########NEED TO REMOVE DUPS!###########\n",
    "\n",
    "cities = pd.DataFrame({\n",
    "    \"City\":[],\n",
    "    \"Country\":[],\n",
    "    \"Latitude\":[],\n",
    "    \"Longitude\":[]\n",
    "})\n",
    "\n",
    "city_names = []\n",
    "country_codes = []\n",
    "lats = []\n",
    "lngs = []\n",
    "\n",
    "for i in range(0, 10):\n",
    "    lat = random.uniform(-90, 90)\n",
    "    lng = random.uniform(-180, 180)\n",
    "    location = (lat, lng)\n",
    "    city = citipy.nearest_city(lat, lng)\n",
    "    city_name = city.city_name\n",
    "    country_code = city.country_code\n",
    "    \n",
    "    city_names.append(city_name)\n",
    "    country_codes.append(country_code)\n",
    "    lats.append(lat)\n",
    "    lngs.append(lng)\n",
    "\n",
    "cities[\"City\"] = city_names\n",
    "cities[\"Country\"] = country_codes\n",
    "cities[\"Latitude\"] = lats\n",
    "cities[\"Longitude\"] = lngs\n",
    "cities.head()"
   ]
  },
  {
   "cell_type": "code",
   "execution_count": 3,
   "metadata": {},
   "outputs": [
    {
     "name": "stdout",
     "output_type": "stream",
     "text": [
      "Making request #1 for mergui, mm...\n",
      "https://api.openweathermap.org/data/2.5/weather?q=mergui,mm&units=imperial&appid=**********************\n",
      "Making request #2 for mataura, pf...\n",
      "https://api.openweathermap.org/data/2.5/weather?q=mataura,pf&units=imperial&appid=**********************\n",
      "Making request #3 for norman wells, ca...\n",
      "https://api.openweathermap.org/data/2.5/weather?q=norman wells,ca&units=imperial&appid=**********************\n",
      "Making request #4 for airai, pw...\n",
      "https://api.openweathermap.org/data/2.5/weather?q=airai,pw&units=imperial&appid=**********************\n",
      "Making request #5 for punta arenas, cl...\n",
      "https://api.openweathermap.org/data/2.5/weather?q=punta arenas,cl&units=imperial&appid=**********************\n",
      "Making request #6 for nanortalik, gl...\n",
      "https://api.openweathermap.org/data/2.5/weather?q=nanortalik,gl&units=imperial&appid=**********************\n",
      "Making request #7 for rikitea, pf...\n",
      "https://api.openweathermap.org/data/2.5/weather?q=rikitea,pf&units=imperial&appid=**********************\n",
      "Making request #8 for ushuaia, ar...\n",
      "https://api.openweathermap.org/data/2.5/weather?q=ushuaia,ar&units=imperial&appid=**********************\n",
      "Making request #9 for palabuhanratu, id...\n",
      "https://api.openweathermap.org/data/2.5/weather?q=palabuhanratu,id&units=imperial&appid=**********************\n",
      "Making request #10 for spornoye, ru...\n",
      "https://api.openweathermap.org/data/2.5/weather?q=spornoye,ru&units=imperial&appid=**********************\n"
     ]
    }
   ],
   "source": [
    "# Perform a weather check on each of the cities using a series of successive API calls.\n",
    "# Include a print log of each city as it's being processed with the city number, city name, and requested URL.\n",
    "\n",
    "base_url = \"https://api.openweathermap.org/data/2.5/weather\"\n",
    "responses = []\n",
    "i = 0\n",
    "\n",
    "for index, row in cities.iterrows():\n",
    "    i = i+1\n",
    "    city_name = row[\"City\"]\n",
    "    country_code = row[\"Country\"]\n",
    "    params = {\n",
    "        \"q\":f\"{city_name},{country_code}\",\n",
    "        \"appid\":owm_api_key,\n",
    "        \"units\":\"imperial\"\n",
    "    }\n",
    "    print(f\"Retrieving data for city #{i} ({city_name}, {country_code})...\")\n",
    "    print(f\"{base_url}?q={city_name},{country_code}&units=imperial&appid=**********************\")\n",
    "    response = requests.get(base_url, params=params).json()    \n",
    "    responses.append(response)    "
   ]
  },
  {
   "cell_type": "code",
   "execution_count": 4,
   "metadata": {},
   "outputs": [
    {
     "name": "stdout",
     "output_type": "stream",
     "text": [
      "Could not retrieve data for mergui, mm\n",
      "Could not retrieve data for airai, pw\n",
      "Could not retrieve data for palabuhanratu, id\n",
      "Could not retrieve data for spornoye, ru\n"
     ]
    },
    {
     "data": {
      "text/html": [
       "<div>\n",
       "<style>\n",
       "    .dataframe thead tr:only-child th {\n",
       "        text-align: right;\n",
       "    }\n",
       "\n",
       "    .dataframe thead th {\n",
       "        text-align: left;\n",
       "    }\n",
       "\n",
       "    .dataframe tbody tr th {\n",
       "        vertical-align: top;\n",
       "    }\n",
       "</style>\n",
       "<table border=\"1\" class=\"dataframe\">\n",
       "  <thead>\n",
       "    <tr style=\"text-align: right;\">\n",
       "      <th></th>\n",
       "      <th>City</th>\n",
       "      <th>Country</th>\n",
       "      <th>Latitude</th>\n",
       "      <th>Longitude</th>\n",
       "      <th>Temperature (F)</th>\n",
       "      <th>Humidity (%)</th>\n",
       "      <th>Cloudiness (%)</th>\n",
       "      <th>Wind Speed (mph)</th>\n",
       "    </tr>\n",
       "  </thead>\n",
       "  <tbody>\n",
       "    <tr>\n",
       "      <th>0</th>\n",
       "      <td>mergui</td>\n",
       "      <td>mm</td>\n",
       "      <td>11.630521</td>\n",
       "      <td>98.627505</td>\n",
       "      <td>NaN</td>\n",
       "      <td>NaN</td>\n",
       "      <td>NaN</td>\n",
       "      <td>NaN</td>\n",
       "    </tr>\n",
       "    <tr>\n",
       "      <th>1</th>\n",
       "      <td>mataura</td>\n",
       "      <td>pf</td>\n",
       "      <td>-86.528193</td>\n",
       "      <td>-157.238227</td>\n",
       "      <td>33.8</td>\n",
       "      <td>100.0</td>\n",
       "      <td>75.0</td>\n",
       "      <td>6.93</td>\n",
       "    </tr>\n",
       "    <tr>\n",
       "      <th>2</th>\n",
       "      <td>norman wells</td>\n",
       "      <td>ca</td>\n",
       "      <td>74.491104</td>\n",
       "      <td>-119.280961</td>\n",
       "      <td>3.2</td>\n",
       "      <td>84.0</td>\n",
       "      <td>20.0</td>\n",
       "      <td>5.82</td>\n",
       "    </tr>\n",
       "    <tr>\n",
       "      <th>3</th>\n",
       "      <td>airai</td>\n",
       "      <td>pw</td>\n",
       "      <td>11.571790</td>\n",
       "      <td>137.588948</td>\n",
       "      <td>NaN</td>\n",
       "      <td>NaN</td>\n",
       "      <td>NaN</td>\n",
       "      <td>NaN</td>\n",
       "    </tr>\n",
       "    <tr>\n",
       "      <th>4</th>\n",
       "      <td>punta arenas</td>\n",
       "      <td>cl</td>\n",
       "      <td>-65.178682</td>\n",
       "      <td>-85.492823</td>\n",
       "      <td>51.8</td>\n",
       "      <td>43.0</td>\n",
       "      <td>40.0</td>\n",
       "      <td>23.04</td>\n",
       "    </tr>\n",
       "  </tbody>\n",
       "</table>\n",
       "</div>"
      ],
      "text/plain": [
       "           City Country   Latitude   Longitude  Temperature (F)  Humidity (%)  \\\n",
       "0        mergui      mm  11.630521   98.627505              NaN           NaN   \n",
       "1       mataura      pf -86.528193 -157.238227             33.8         100.0   \n",
       "2  norman wells      ca  74.491104 -119.280961              3.2          84.0   \n",
       "3         airai      pw  11.571790  137.588948              NaN           NaN   \n",
       "4  punta arenas      cl -65.178682  -85.492823             51.8          43.0   \n",
       "\n",
       "   Cloudiness (%)  Wind Speed (mph)  \n",
       "0             NaN               NaN  \n",
       "1            75.0              6.93  \n",
       "2            20.0              5.82  \n",
       "3             NaN               NaN  \n",
       "4            40.0             23.04  "
      ]
     },
     "execution_count": 4,
     "metadata": {},
     "output_type": "execute_result"
    }
   ],
   "source": [
    "cities[\"Temperature (F)\"] = \"\"\n",
    "cities[\"Humidity (%)\"] = \"\"\n",
    "cities[\"Cloudiness (%)\"] = \"\"\n",
    "cities[\"Wind Speed (mph)\"] = \"\"\n",
    "\n",
    "temps = []\n",
    "humidities = []\n",
    "clouds = []\n",
    "winds = []\n",
    "i = 0\n",
    "\n",
    "for response in responses:\n",
    "    try:\n",
    "        temp = response[\"main\"][\"temp\"]\n",
    "        humidity = response[\"main\"][\"humidity\"]\n",
    "        cloudiness = response[\"clouds\"][\"all\"]\n",
    "        wind = response[\"wind\"][\"speed\"]\n",
    "    except KeyError:\n",
    "        print(f\"Could not retrieve data for {cities.loc[i,'City']}, {cities.loc[i,'Country']}\")\n",
    "        temp = None\n",
    "        humidity = None\n",
    "        cloudiness = None\n",
    "        wind = None\n",
    "    temps.append(temp)\n",
    "    humidities.append(humidity)\n",
    "    clouds.append(cloudiness)\n",
    "    winds.append(wind)\n",
    "    i = i+1\n",
    "    \n",
    "cities[\"Temperature (F)\"] = temps\n",
    "cities[\"Humidity (%)\"] = humidities\n",
    "cities[\"Cloudiness (%)\"] = clouds\n",
    "cities[\"Wind Speed (mph)\"] = winds\n",
    "cities.head()"
   ]
  },
  {
   "cell_type": "code",
   "execution_count": 5,
   "metadata": {
    "collapsed": true
   },
   "outputs": [],
   "source": [
    "# Save both a CSV of all data retrieved and png images for each scatter plot.\n",
    "cities.to_csv(\"weather_data.csv\", index=False, header=True)"
   ]
  },
  {
   "cell_type": "code",
   "execution_count": 6,
   "metadata": {},
   "outputs": [
    {
     "data": {
      "image/png": "[encoded data removed]",
      "text/plain": [
       "<matplotlib.figure.Figure at 0x221c964f0b8>"
      ]
     },
     "metadata": {},
     "output_type": "display_data"
    }
   ],
   "source": [
    "plt.scatter(cities[\"Latitude\"], cities[\"Temperature (F)\"], c=\"crimson\", alpha=0.75, edgecolor=\"black\")\n",
    "plt.title(\"City Latitude vs. Temperature\")\n",
    "plt.xlim(-90,90)\n",
    "plt.xlabel(\"Latitude\")\n",
    "plt.ylabel(\"Temperature (F)\")\n",
    "plt.show()"
   ]
  },
  {
   "cell_type": "code",
   "execution_count": 7,
   "metadata": {},
   "outputs": [
    {
     "data": {
      "image/png": "[encoded data removed]",
      "text/plain": [
       "<matplotlib.figure.Figure at 0x221c9efb320>"
      ]
     },
     "metadata": {},
     "output_type": "display_data"
    }
   ],
   "source": [
    "plt.scatter(cities[\"Latitude\"], cities[\"Humidity (%)\"], c=\"crimson\", alpha=0.75, edgecolor=\"black\")\n",
    "plt.title(\"City Latitude vs. Humidity\")\n",
    "plt.xlim(-90,90)\n",
    "plt.ylim(0,105)\n",
    "plt.xlabel(\"Latitude\")\n",
    "plt.ylabel(\"Humidity (%)\")\n",
    "plt.show()"
   ]
  },
  {
   "cell_type": "code",
   "execution_count": 8,
   "metadata": {},
   "outputs": [
    {
     "data": {
      "image/png": "[encoded data removed]",
      "text/plain": [
       "<matplotlib.figure.Figure at 0x221c9d79978>"
      ]
     },
     "metadata": {},
     "output_type": "display_data"
    }
   ],
   "source": [
    "plt.scatter(cities[\"Latitude\"], cities[\"Cloudiness (%)\"], c=\"crimson\", alpha=0.75, edgecolor=\"black\")\n",
    "plt.title(\"City Latitude vs. Cloudiness\")\n",
    "plt.xlim(-90,90)\n",
    "plt.ylim(0,100)\n",
    "plt.xlabel(\"Latitude\")\n",
    "plt.ylabel(\"Cloudiness (%)\")\n",
    "plt.show()"
   ]
  },
  {
   "cell_type": "code",
   "execution_count": 9,
   "metadata": {},
   "outputs": [
    {
     "data": {
      "image/png": "[encoded data removed]",
      "text/plain": [
       "<matplotlib.figure.Figure at 0x221caf6b710>"
      ]
     },
     "metadata": {},
     "output_type": "display_data"
    }
   ],
   "source": [
    "plt.scatter(cities[\"Latitude\"], cities[\"Wind Speed (mph)\"], c=\"crimson\", alpha=0.75, edgecolor=\"black\")\n",
    "plt.title(\"City Latitude vs. Windiness\")\n",
    "plt.xlim(-90,90)\n",
    "plt.xlabel(\"Latitude\")\n",
    "plt.ylabel(\"Wind Speed (mph)\")\n",
    "plt.show()"
   ]
  }
 ],
 "metadata": {
  "kernelspec": {
   "display_name": "Python 3",
   "language": "python",
   "name": "python3"
  },
  "language_info": {
   "codemirror_mode": {
    "name": "ipython",
    "version": 3
   },
   "file_extension": ".py",
   "mimetype": "text/x-python",
   "name": "python",
   "nbconvert_exporter": "python",
   "pygments_lexer": "ipython3",
   "version": "3.6.2"
  }
 },
 "nbformat": 4,
 "nbformat_minor": 2
}
